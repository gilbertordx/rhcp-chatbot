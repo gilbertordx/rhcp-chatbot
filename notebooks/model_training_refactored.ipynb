{
 "cells": [
  {
   "cell_type": "raw",
   "metadata": {
    "vscode": {
     "languageId": "raw"
    }
   },
   "source": [
    "---------------------------------------------------------------------------\n",
    "NameError                                 Traceback (most recent call last)\n",
    "Cell In[1], line 14\n",
    "     11 from datetime import datetime\n",
    "     13 # Add parent directories to path for imports\n",
    "---> 14 sys.path.append(str(Path(__file__).parent.parent.parent))\n",
    "     16 from scripts.utils.config_manager import ConfigManager\n",
    "     17 from scripts.utils.logger_setup import setup_training_logger\n",
    "\n",
    "NameError: name '__file__' is not defined# RHCP Chatbot ML Pipeline - Refactored\n",
    "\n",
    "This notebook demonstrates the refactored ML pipeline using modular scripts and configuration management.\n",
    "\n",
    "## Features\n",
    "- ✅ Configuration-driven training\n",
    "- ✅ Modular, reusable components  \n",
    "- ✅ Comprehensive logging\n",
    "- ✅ Automated evaluation and reporting\n",
    "- ✅ Professional project structure\n",
    "\n",
    "## Project Structure\n",
    "```\n",
    "rhcp-chatbot/\n",
    "├── config/                    # Configuration files\n",
    "├── data/                      # Organized data structure\n",
    "├── scripts/\n",
    "│   ├── data/                  # Data processing scripts\n",
    "│   ├── training/              # Training scripts\n",
    "│   ├── evaluation/            # Evaluation scripts\n",
    "│   └── utils/                 # Utility modules\n",
    "└── logs/                      # Application logs\n",
    "```\n"
   ]
  }
 ],
 "metadata": {
  "kernelspec": {
   "display_name": "Python 3 (ipykernel)",
   "language": "python",
   "name": "python3"
  },
  "language_info": {
   "codemirror_mode": {
    "name": "ipython",
    "version": 3
   },
   "file_extension": ".py",
   "mimetype": "text/x-python",
   "name": "python",
   "nbconvert_exporter": "python",
   "pygments_lexer": "ipython3",
   "version": "3.12.3"
  }
 },
 "nbformat": 4,
 "nbformat_minor": 4
}
