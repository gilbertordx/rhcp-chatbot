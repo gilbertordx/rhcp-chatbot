{
  "cells": [
    {
      "cell_type": "raw",
      "metadata": {
        "vscode": {
          "languageId": "raw"
        }
      },
      "source": [
        "# RHCP Chatbot ML Pipeline - Refactored\n",
        "\n",
        "This notebook demonstrates the refactored ML pipeline using modular scripts and configuration management.\n",
        "\n",
        "## Features\n",
        "- ✅ Configuration-driven training\n",
        "- ✅ Modular, reusable components  \n",
        "- ✅ Comprehensive logging\n",
        "- ✅ Automated evaluation and reporting\n",
        "- ✅ Professional project structure\n",
        "\n",
        "## Project Structure\n",
        "```\n",
        "rhcp-chatbot/\n",
        "├── config/                    # Configuration files\n",
        "├── data/                      # Organized data structure\n",
        "├── scripts/\n",
        "│   ├── data/                  # Data processing scripts\n",
        "│   ├── training/              # Training scripts\n",
        "│   ├── evaluation/            # Evaluation scripts\n",
        "│   └── utils/                 # Utility modules\n",
        "└── logs/                      # Application logs\n",
        "```\n"
      ]
    }
  ],
  "metadata": {
    "language_info": {
      "name": "python"
    }
  },
  "nbformat": 4,
  "nbformat_minor": 2
}
